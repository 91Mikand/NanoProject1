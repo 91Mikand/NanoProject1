{
 "cells": [
  {
   "cell_type": "code",
   "execution_count": null,
   "metadata": {},
   "outputs": [],
   "source": [
    "# importing the libraries\n",
    "import pandas as pd\n",
    "import numpy as np\n",
    "import matplotlib.pyplot as plt\n",
    "import seaborn as sns"
   ]
  },
  {
   "cell_type": "code",
   "execution_count": 2,
   "metadata": {},
   "outputs": [],
   "source": [
    "#loading datasets\n",
    "df = pd.read_csv(\"survey_results_public.csv\")\n",
    "schema = pd.read_csv('./survey_results_schema.csv')\n"
   ]
  },
  {
   "cell_type": "code",
   "execution_count": 3,
   "metadata": {},
   "outputs": [],
   "source": [
    "\n",
    "   # Questions:\n",
    "   #1. In which countries professional developers earn the most?\n",
    "   #2. Does formal education have an impact on the Salary of a profesional developer?\n",
    "   #3. Is programming still a male-dominated field? Does Gender affect the Salary?"
   ]
  },
  {
   "cell_type": "code",
   "execution_count": null,
   "metadata": {},
   "outputs": [],
   "source": []
  },
  {
   "cell_type": "code",
   "execution_count": 4,
   "metadata": {},
   "outputs": [],
   "source": [
    "#let's create a list of columns in order to investigate which ones can help us to answer the questions\n",
    "columns = list(df.columns)\n"
   ]
  },
  {
   "cell_type": "code",
   "execution_count": 5,
   "metadata": {},
   "outputs": [],
   "source": [
    "#let's get to know the data further with a function which will allow us to view a survey question related to a column\n",
    "def get_description(column_name, schema=schema):\n",
    "   \n",
    "    desc = list(schema[schema['Column'] == column_name]['Question'])[0]\n",
    "    return desc\n"
   ]
  },
  {
   "cell_type": "code",
   "execution_count": 6,
   "metadata": {},
   "outputs": [
    {
     "data": {
      "text/plain": [
       "'Which of the following do you currently identify as?'"
      ]
     },
     "execution_count": 6,
     "metadata": {},
     "output_type": "execute_result"
    }
   ],
   "source": [
    "get_description('Gender')"
   ]
  },
  {
   "cell_type": "code",
   "execution_count": 7,
   "metadata": {},
   "outputs": [],
   "source": [
    "#trimming the data to include only the countries that appear a considerable number of times and to include only professional developers\n",
    "df = df[df['Professional'] == 'Professional developer']\n",
    "df1 = df[df.groupby('Country').Country.transform(len) > 50] "
   ]
  },
  {
   "cell_type": "code",
   "execution_count": 8,
   "metadata": {},
   "outputs": [],
   "source": [
    "#first question "
   ]
  },
  {
   "cell_type": "code",
   "execution_count": 9,
   "metadata": {},
   "outputs": [],
   "source": [
    "#grouping the necessary data\n",
    "\n",
    "mean_salary_per_country = df1[['Country' , 'Salary']].groupby('Country' , as_index=False)['Salary'].mean()"
   ]
  },
  {
   "cell_type": "code",
   "execution_count": 10,
   "metadata": {},
   "outputs": [],
   "source": [
    "#dropping missing values in this case is justified, as we've got a sample large enough to use it\n",
    "mean_salary_per_country = mean_salary_per_country.dropna() "
   ]
  },
  {
   "cell_type": "markdown",
   "metadata": {},
   "source": [
    "mean_salary_per_country"
   ]
  },
  {
   "cell_type": "code",
   "execution_count": 11,
   "metadata": {},
   "outputs": [
    {
     "name": "stdout",
     "output_type": "stream",
     "text": [
      "                 Country        Salary\n",
      "0              Argentina  25771.287719\n",
      "1              Australia  69215.755208\n",
      "2                Austria  45299.012856\n",
      "3             Bangladesh  21923.787850\n",
      "4                Belarus  23168.115845\n",
      "..                   ...           ...\n",
      "60  United Arab Emirates  29166.269328\n",
      "61        United Kingdom  52602.396967\n",
      "62         United States  96194.754635\n",
      "63               Uruguay  44224.203822\n",
      "64               Vietnam  13183.333333\n",
      "\n",
      "[65 rows x 2 columns]\n"
     ]
    }
   ],
   "source": [
    "#testing the results so far\n",
    "\n",
    "print(mean_salary_per_country)"
   ]
  },
  {
   "cell_type": "code",
   "execution_count": 12,
   "metadata": {},
   "outputs": [],
   "source": [
    "#sorting the results by Salary\n",
    "\n",
    "mean_salary_per_country.sort_values(by=['Salary'], inplace=True, ascending=False)"
   ]
  },
  {
   "cell_type": "code",
   "execution_count": 13,
   "metadata": {},
   "outputs": [
    {
     "name": "stdout",
     "output_type": "stream",
     "text": [
      "          Country        Salary\n",
      "62  United States  96194.754635\n",
      "55    Switzerland  91189.692616\n",
      "39         Norway  73534.353022\n",
      "1       Australia  69215.755208\n",
      "27         Israel  62685.768457\n",
      "..            ...           ...\n",
      "24      Indonesia   8713.222258\n",
      "40       Pakistan   8195.250180\n",
      "38        Nigeria   8181.251822\n",
      "35          Nepal   7608.333333\n",
      "15          Egypt   6116.166667\n",
      "\n",
      "[65 rows x 2 columns]\n"
     ]
    }
   ],
   "source": [
    "print(mean_salary_per_country) "
   ]
  },
  {
   "cell_type": "code",
   "execution_count": 14,
   "metadata": {},
   "outputs": [],
   "source": [
    "#re-indexing the data \n",
    "\n",
    "mean_salary_per_country = mean_salary_per_country.reset_index(drop=True)"
   ]
  },
  {
   "cell_type": "code",
   "execution_count": 15,
   "metadata": {
    "scrolled": true
   },
   "outputs": [
    {
     "data": {
      "image/png": "[encoded data removed]",
      "text/plain": [
       "<Figure size 1080x360 with 1 Axes>"
      ]
     },
     "metadata": {
      "needs_background": "light"
     },
     "output_type": "display_data"
    }
   ],
   "source": [
    "#Creating a plot and placing labels both at the top and at the bottom of it to make it more readable\n",
    "\n",
    "plt.figure(figsize=(15, 5))\n",
    "plt.rcParams['xtick.top'] = plt.rcParams['xtick.labeltop'] = True\n",
    "plt.rcParams['xtick.bottom'] = plt.rcParams['xtick.labelbottom'] = True\n",
    "sns.barplot(data=mean_salary_per_country.head(10), x='Salary', y='Country', palette=sns.color_palette(\"ch:4.5,-.3,dark=.2\"))\n",
    "plt.title('Mean Salary per Country (top 10)')\n",
    "plt.ylabel('Country')\n",
    "plt.xlabel('Mean Salary')\n",
    "plt.show()\n"
   ]
  },
  {
   "cell_type": "code",
   "execution_count": 16,
   "metadata": {},
   "outputs": [],
   "source": [
    "#Let's now focus on the impact of education on the salary\n",
    "mean_salary_per_education = df[['FormalEducation' , 'Salary']].dropna().groupby('FormalEducation' , as_index=False)['Salary'].mean()"
   ]
  },
  {
   "cell_type": "code",
   "execution_count": 17,
   "metadata": {
    "scrolled": true
   },
   "outputs": [],
   "source": [
    "mean_salary_per_education['FormalEducation'] = mean_salary_per_education['FormalEducation'].replace([\"Some college/university study without earning a bachelor's degree\"],'Higher education started, not completed')\n",
    "\n",
    "mean_salary_per_education.sort_values(by=['Salary'], inplace=True, ascending=False)\n"
   ]
  },
  {
   "cell_type": "code",
   "execution_count": 18,
   "metadata": {
    "scrolled": true
   },
   "outputs": [
    {
     "name": "stdout",
     "output_type": "stream",
     "text": [
      "                           FormalEducation        Salary\n",
      "1                          Doctoral degree  78527.933053\n",
      "5                Primary/elementary school  62677.337356\n",
      "4                          Master's degree  58250.838766\n",
      "0                        Bachelor's degree  56914.358553\n",
      "8  Higher education started, not completed  55912.810459\n",
      "2   I never completed any formal education  44430.660621\n",
      "7                         Secondary school  40395.148419\n",
      "6                      Professional degree  39503.658863\n",
      "3                   I prefer not to answer  38284.836141\n"
     ]
    }
   ],
   "source": [
    "print(mean_salary_per_education)"
   ]
  },
  {
   "cell_type": "code",
   "execution_count": 19,
   "metadata": {
    "scrolled": true
   },
   "outputs": [
    {
     "data": {
      "image/png": "[encoded data removed]",
      "text/plain": [
       "<Figure size 1080x360 with 1 Axes>"
      ]
     },
     "metadata": {
      "needs_background": "light"
     },
     "output_type": "display_data"
    }
   ],
   "source": [
    "plt.figure(figsize=(15, 5))\n",
    "plt.rcParams['xtick.top'] = plt.rcParams['xtick.labeltop'] = False\n",
    "plt.rcParams['xtick.bottom'] = plt.rcParams['xtick.labelbottom'] = True\n",
    "plt.xticks(rotation='75' , va='top')\n",
    "sns.barplot(data=mean_salary_per_education.drop(3), x='FormalEducation', y='Salary', palette=sns.color_palette(\"ch:2.6,-.3,dark=.9\"))\n",
    "plt.title('Mean Salary per Formal Education')\n",
    "plt.ylabel('Mean Salary')\n",
    "plt.xlabel('\\nFormal Education')\n",
    "plt.show()\n"
   ]
  },
  {
   "cell_type": "code",
   "execution_count": 20,
   "metadata": {
    "scrolled": true
   },
   "outputs": [
    {
     "data": {
      "text/html": [
       "<div>\n",
       "<style scoped>\n",
       "    .dataframe tbody tr th:only-of-type {\n",
       "        vertical-align: middle;\n",
       "    }\n",
       "\n",
       "    .dataframe tbody tr th {\n",
       "        vertical-align: top;\n",
       "    }\n",
       "\n",
       "    .dataframe thead th {\n",
       "        text-align: right;\n",
       "    }\n",
       "</style>\n",
       "<table border=\"1\" class=\"dataframe\">\n",
       "  <thead>\n",
       "    <tr style=\"text-align: right;\">\n",
       "      <th></th>\n",
       "      <th>FormalEducation</th>\n",
       "      <th>Salary</th>\n",
       "    </tr>\n",
       "  </thead>\n",
       "  <tbody>\n",
       "    <tr>\n",
       "      <th>1</th>\n",
       "      <td>Doctoral degree</td>\n",
       "      <td>78527.933053</td>\n",
       "    </tr>\n",
       "    <tr>\n",
       "      <th>5</th>\n",
       "      <td>Primary/elementary school</td>\n",
       "      <td>62677.337356</td>\n",
       "    </tr>\n",
       "    <tr>\n",
       "      <th>4</th>\n",
       "      <td>Master's degree</td>\n",
       "      <td>58250.838766</td>\n",
       "    </tr>\n",
       "    <tr>\n",
       "      <th>0</th>\n",
       "      <td>Bachelor's degree</td>\n",
       "      <td>56914.358553</td>\n",
       "    </tr>\n",
       "    <tr>\n",
       "      <th>8</th>\n",
       "      <td>Higher education started, not completed</td>\n",
       "      <td>55912.810459</td>\n",
       "    </tr>\n",
       "    <tr>\n",
       "      <th>2</th>\n",
       "      <td>I never completed any formal education</td>\n",
       "      <td>44430.660621</td>\n",
       "    </tr>\n",
       "    <tr>\n",
       "      <th>7</th>\n",
       "      <td>Secondary school</td>\n",
       "      <td>40395.148419</td>\n",
       "    </tr>\n",
       "    <tr>\n",
       "      <th>6</th>\n",
       "      <td>Professional degree</td>\n",
       "      <td>39503.658863</td>\n",
       "    </tr>\n",
       "    <tr>\n",
       "      <th>3</th>\n",
       "      <td>I prefer not to answer</td>\n",
       "      <td>38284.836141</td>\n",
       "    </tr>\n",
       "  </tbody>\n",
       "</table>\n",
       "</div>"
      ],
      "text/plain": [
       "                           FormalEducation        Salary\n",
       "1                          Doctoral degree  78527.933053\n",
       "5                Primary/elementary school  62677.337356\n",
       "4                          Master's degree  58250.838766\n",
       "0                        Bachelor's degree  56914.358553\n",
       "8  Higher education started, not completed  55912.810459\n",
       "2   I never completed any formal education  44430.660621\n",
       "7                         Secondary school  40395.148419\n",
       "6                      Professional degree  39503.658863\n",
       "3                   I prefer not to answer  38284.836141"
      ]
     },
     "execution_count": 20,
     "metadata": {},
     "output_type": "execute_result"
    }
   ],
   "source": [
    "#place of living has a higher impact on Salary than formal education\n",
    "\n",
    "mean_salary_per_country\n",
    "mean_salary_per_education\n"
   ]
  },
  {
   "cell_type": "code",
   "execution_count": 21,
   "metadata": {},
   "outputs": [],
   "source": [
    "#gender of professional developers\n",
    "gender = df['Gender'].dropna()"
   ]
  },
  {
   "cell_type": "code",
   "execution_count": 22,
   "metadata": {
    "scrolled": true
   },
   "outputs": [],
   "source": [
    "#mean salary per gender\n",
    "mean_salary_per_gender = df[['Gender' , 'Salary']].dropna().groupby('Gender' , as_index=False)['Salary'].mean()\n"
   ]
  },
  {
   "cell_type": "code",
   "execution_count": 23,
   "metadata": {},
   "outputs": [
    {
     "data": {
      "text/html": [
       "<div>\n",
       "<style scoped>\n",
       "    .dataframe tbody tr th:only-of-type {\n",
       "        vertical-align: middle;\n",
       "    }\n",
       "\n",
       "    .dataframe tbody tr th {\n",
       "        vertical-align: top;\n",
       "    }\n",
       "\n",
       "    .dataframe thead th {\n",
       "        text-align: right;\n",
       "    }\n",
       "</style>\n",
       "<table border=\"1\" class=\"dataframe\">\n",
       "  <thead>\n",
       "    <tr style=\"text-align: right;\">\n",
       "      <th></th>\n",
       "      <th>Gender</th>\n",
       "      <th>Salary</th>\n",
       "    </tr>\n",
       "  </thead>\n",
       "  <tbody>\n",
       "    <tr>\n",
       "      <th>0</th>\n",
       "      <td>Female</td>\n",
       "      <td>58083.924534</td>\n",
       "    </tr>\n",
       "    <tr>\n",
       "      <th>1</th>\n",
       "      <td>Female; Gender non-conforming</td>\n",
       "      <td>69519.757125</td>\n",
       "    </tr>\n",
       "    <tr>\n",
       "      <th>2</th>\n",
       "      <td>Female; Transgender</td>\n",
       "      <td>78791.988363</td>\n",
       "    </tr>\n",
       "    <tr>\n",
       "      <th>3</th>\n",
       "      <td>Female; Transgender; Gender non-conforming</td>\n",
       "      <td>90750.000000</td>\n",
       "    </tr>\n",
       "    <tr>\n",
       "      <th>4</th>\n",
       "      <td>Female; Transgender; Other</td>\n",
       "      <td>126000.000000</td>\n",
       "    </tr>\n",
       "    <tr>\n",
       "      <th>5</th>\n",
       "      <td>Gender non-conforming</td>\n",
       "      <td>63672.172798</td>\n",
       "    </tr>\n",
       "    <tr>\n",
       "      <th>6</th>\n",
       "      <td>Male</td>\n",
       "      <td>56996.494293</td>\n",
       "    </tr>\n",
       "    <tr>\n",
       "      <th>7</th>\n",
       "      <td>Male; Female</td>\n",
       "      <td>23867.997408</td>\n",
       "    </tr>\n",
       "    <tr>\n",
       "      <th>8</th>\n",
       "      <td>Male; Female; Other</td>\n",
       "      <td>15000.000000</td>\n",
       "    </tr>\n",
       "    <tr>\n",
       "      <th>9</th>\n",
       "      <td>Male; Female; Transgender</td>\n",
       "      <td>12000.000000</td>\n",
       "    </tr>\n",
       "    <tr>\n",
       "      <th>10</th>\n",
       "      <td>Male; Female; Transgender; Gender non-conformi...</td>\n",
       "      <td>46073.440469</td>\n",
       "    </tr>\n",
       "    <tr>\n",
       "      <th>11</th>\n",
       "      <td>Male; Gender non-conforming</td>\n",
       "      <td>60440.697719</td>\n",
       "    </tr>\n",
       "    <tr>\n",
       "      <th>12</th>\n",
       "      <td>Male; Gender non-conforming; Other</td>\n",
       "      <td>66000.000000</td>\n",
       "    </tr>\n",
       "    <tr>\n",
       "      <th>13</th>\n",
       "      <td>Male; Other</td>\n",
       "      <td>53565.009777</td>\n",
       "    </tr>\n",
       "    <tr>\n",
       "      <th>14</th>\n",
       "      <td>Male; Transgender</td>\n",
       "      <td>82033.030303</td>\n",
       "    </tr>\n",
       "    <tr>\n",
       "      <th>15</th>\n",
       "      <td>Male; Transgender; Other</td>\n",
       "      <td>67500.000000</td>\n",
       "    </tr>\n",
       "    <tr>\n",
       "      <th>16</th>\n",
       "      <td>Other</td>\n",
       "      <td>58133.780908</td>\n",
       "    </tr>\n",
       "    <tr>\n",
       "      <th>17</th>\n",
       "      <td>Transgender</td>\n",
       "      <td>87643.985215</td>\n",
       "    </tr>\n",
       "    <tr>\n",
       "      <th>18</th>\n",
       "      <td>Transgender; Gender non-conforming</td>\n",
       "      <td>54314.516129</td>\n",
       "    </tr>\n",
       "  </tbody>\n",
       "</table>\n",
       "</div>"
      ],
      "text/plain": [
       "                                               Gender         Salary\n",
       "0                                              Female   58083.924534\n",
       "1                       Female; Gender non-conforming   69519.757125\n",
       "2                                 Female; Transgender   78791.988363\n",
       "3          Female; Transgender; Gender non-conforming   90750.000000\n",
       "4                          Female; Transgender; Other  126000.000000\n",
       "5                               Gender non-conforming   63672.172798\n",
       "6                                                Male   56996.494293\n",
       "7                                        Male; Female   23867.997408\n",
       "8                                 Male; Female; Other   15000.000000\n",
       "9                           Male; Female; Transgender   12000.000000\n",
       "10  Male; Female; Transgender; Gender non-conformi...   46073.440469\n",
       "11                        Male; Gender non-conforming   60440.697719\n",
       "12                 Male; Gender non-conforming; Other   66000.000000\n",
       "13                                        Male; Other   53565.009777\n",
       "14                                  Male; Transgender   82033.030303\n",
       "15                           Male; Transgender; Other   67500.000000\n",
       "16                                              Other   58133.780908\n",
       "17                                        Transgender   87643.985215\n",
       "18                 Transgender; Gender non-conforming   54314.516129"
      ]
     },
     "execution_count": 23,
     "metadata": {},
     "output_type": "execute_result"
    }
   ],
   "source": [
    "mean_salary_per_gender"
   ]
  },
  {
   "cell_type": "code",
   "execution_count": 24,
   "metadata": {},
   "outputs": [],
   "source": [
    "# % of respondants for each gender\n",
    "percentage = gender.dropna().value_counts(normalize=True).mul(100).round(2).astype(str) + '%'"
   ]
  },
  {
   "cell_type": "code",
   "execution_count": 25,
   "metadata": {},
   "outputs": [
    {
     "data": {
      "text/plain": [
       "Male                                                       90.95%\n",
       "Female                                                      7.05%\n",
       "Other                                                       0.48%\n",
       "Male; Other                                                 0.45%\n",
       "Gender non-conforming                                       0.34%\n",
       "Male; Gender non-conforming                                 0.17%\n",
       "Transgender                                                 0.13%\n",
       "Female; Transgender                                         0.12%\n",
       "Female; Gender non-conforming                               0.08%\n",
       "Male; Female                                                0.05%\n",
       "Male; Female; Transgender; Gender non-conforming; Other     0.04%\n",
       "Transgender; Gender non-conforming                          0.03%\n",
       "Male; Transgender                                           0.02%\n",
       "Female; Transgender; Gender non-conforming                  0.02%\n",
       "Male; Female; Transgender; Gender non-conforming            0.02%\n",
       "Male; Transgender; Gender non-conforming                    0.01%\n",
       "Male; Gender non-conforming; Other                          0.01%\n",
       "Male; Transgender; Other                                     0.0%\n",
       "Male; Female; Transgender                                    0.0%\n",
       "Female; Transgender; Other                                   0.0%\n",
       "Transgender; Other                                           0.0%\n",
       "Male; Female; Other                                          0.0%\n",
       "Gender non-conforming; Other                                 0.0%\n",
       "Name: Gender, dtype: object"
      ]
     },
     "execution_count": 25,
     "metadata": {},
     "output_type": "execute_result"
    }
   ],
   "source": [
    "percentage"
   ]
  },
  {
   "cell_type": "code",
   "execution_count": 26,
   "metadata": {},
   "outputs": [
    {
     "data": {
      "text/plain": [
       "Male      90.95\n",
       "Female     7.05\n",
       "other      2.00\n",
       "Name: Gender, dtype: float64"
      ]
     },
     "execution_count": 26,
     "metadata": {},
     "output_type": "execute_result"
    }
   ],
   "source": [
    "def gender_male_or_not_male(value):\n",
    "    '''\n",
    "    input: values from the Gender column\n",
    "    output: percentage of male, female and other identities\n",
    "    '''\n",
    "\n",
    "    if value == 'Male':\n",
    "        return 'Male'\n",
    "    elif value == 'Female':\n",
    "        return 'Female'\n",
    "    else:\n",
    "        return 'other'\n",
    "\n",
    "gender1 = gender.dropna().apply(gender_male_or_not_male)\n",
    "\n",
    "gender1 = gender1.value_counts(normalize=True).mul(100).round(2)\n",
    "\n",
    "gender1"
   ]
  },
  {
   "cell_type": "code",
   "execution_count": 27,
   "metadata": {},
   "outputs": [
    {
     "data": {
      "text/plain": [
       "([<matplotlib.patches.Wedge at 0x275203c0108>,\n",
       "  <matplotlib.patches.Wedge at 0x275203c07c8>,\n",
       "  <matplotlib.patches.Wedge at 0x275203c51c8>],\n",
       " [Text(-1.0558396342281502, 0.30854929394339287, 'Male'),\n",
       "  Text(1.0343821402546816, -0.37423734169928097, 'Female'),\n",
       "  Text(1.0978293771176832, -0.0690699553887226, 'Other')])"
      ]
     },
     "execution_count": 27,
     "metadata": {},
     "output_type": "execute_result"
    },
    {
     "data": {
      "image/png": "[encoded data removed]",
      "text/plain": [
       "<Figure size 432x288 with 1 Axes>"
      ]
     },
     "metadata": {},
     "output_type": "display_data"
    }
   ],
   "source": [
    "labels = 'Male' , 'Female' , 'Other'\n",
    "plt.pie(gender1, labels = labels)\n",
    "\n"
   ]
  },
  {
   "cell_type": "code",
   "execution_count": 50,
   "metadata": {},
   "outputs": [],
   "source": [
    "female = df[df.Gender == 'Female']\n",
    "female = female[['Gender' , 'Salary']].dropna().mean()\n",
    "other = df[df.Gender != 'Male']\n",
    "other = other[other.Gender != 'Female']\n",
    "male = df[df.Gender == 'Male']\n",
    "other = other[['Gender' , 'Salary']].dropna().mean()\n",
    "male = male[['Gender' , 'Salary']].dropna().mean()"
   ]
  },
  {
   "cell_type": "code",
   "execution_count": 51,
   "metadata": {},
   "outputs": [
    {
     "data": {
      "text/plain": [
       "Salary    61671.656678\n",
       "dtype: float64"
      ]
     },
     "execution_count": 51,
     "metadata": {},
     "output_type": "execute_result"
    }
   ],
   "source": [
    "#mean salary of developers who don't identify only as male or female\n",
    "other\n"
   ]
  },
  {
   "cell_type": "code",
   "execution_count": 52,
   "metadata": {},
   "outputs": [
    {
     "data": {
      "text/plain": [
       "Salary    56996.494293\n",
       "dtype: float64"
      ]
     },
     "execution_count": 52,
     "metadata": {},
     "output_type": "execute_result"
    }
   ],
   "source": [
    "#mean salary of male developers\n",
    "male"
   ]
  },
  {
   "cell_type": "code",
   "execution_count": 53,
   "metadata": {},
   "outputs": [
    {
     "data": {
      "text/plain": [
       "Salary    58083.924534\n",
       "dtype: float64"
      ]
     },
     "execution_count": 53,
     "metadata": {},
     "output_type": "execute_result"
    }
   ],
   "source": [
    "#mean salary of female developers\n",
    "female"
   ]
  },
  {
   "cell_type": "code",
   "execution_count": 62,
   "metadata": {},
   "outputs": [],
   "source": [
    "#merging the male, female and other into one dataframe\n",
    "salary_male_vs_other = pd.concat([male , female, other] , ignore_index = False , axis=1)\n",
    "\n",
    "#rounding the values to two decimals\n",
    "\n",
    "\n",
    "salary_male_vs_other = salary_male_vs_other.round(decimals=2)\n"
   ]
  },
  {
   "cell_type": "code",
   "execution_count": 63,
   "metadata": {},
   "outputs": [],
   "source": [
    "salary_male_vs_other.columns = ['male' , 'female' , 'other']"
   ]
  },
  {
   "cell_type": "code",
   "execution_count": 64,
   "metadata": {},
   "outputs": [
    {
     "data": {
      "text/html": [
       "<div>\n",
       "<style scoped>\n",
       "    .dataframe tbody tr th:only-of-type {\n",
       "        vertical-align: middle;\n",
       "    }\n",
       "\n",
       "    .dataframe tbody tr th {\n",
       "        vertical-align: top;\n",
       "    }\n",
       "\n",
       "    .dataframe thead th {\n",
       "        text-align: right;\n",
       "    }\n",
       "</style>\n",
       "<table border=\"1\" class=\"dataframe\">\n",
       "  <thead>\n",
       "    <tr style=\"text-align: right;\">\n",
       "      <th></th>\n",
       "      <th>male</th>\n",
       "      <th>female</th>\n",
       "      <th>other</th>\n",
       "    </tr>\n",
       "  </thead>\n",
       "  <tbody>\n",
       "    <tr>\n",
       "      <th>Salary</th>\n",
       "      <td>56996.49</td>\n",
       "      <td>58083.92</td>\n",
       "      <td>61671.66</td>\n",
       "    </tr>\n",
       "  </tbody>\n",
       "</table>\n",
       "</div>"
      ],
      "text/plain": [
       "            male    female     other\n",
       "Salary  56996.49  58083.92  61671.66"
      ]
     },
     "execution_count": 64,
     "metadata": {},
     "output_type": "execute_result"
    }
   ],
   "source": [
    "salary_male_vs_other"
   ]
  },
  {
   "cell_type": "code",
   "execution_count": null,
   "metadata": {},
   "outputs": [],
   "source": []
  },
  {
   "cell_type": "code",
   "execution_count": null,
   "metadata": {},
   "outputs": [],
   "source": []
  },
  {
   "cell_type": "code",
   "execution_count": null,
   "metadata": {},
   "outputs": [],
   "source": []
  },
  {
   "cell_type": "code",
   "execution_count": null,
   "metadata": {},
   "outputs": [],
   "source": []
  },
  {
   "cell_type": "code",
   "execution_count": null,
   "metadata": {},
   "outputs": [],
   "source": []
  },
  {
   "cell_type": "code",
   "execution_count": null,
   "metadata": {},
   "outputs": [],
   "source": []
  },
  {
   "cell_type": "code",
   "execution_count": null,
   "metadata": {},
   "outputs": [],
   "source": [
    "\n"
   ]
  },
  {
   "cell_type": "code",
   "execution_count": null,
   "metadata": {},
   "outputs": [],
   "source": []
  },
  {
   "cell_type": "code",
   "execution_count": null,
   "metadata": {},
   "outputs": [],
   "source": []
  },
  {
   "cell_type": "code",
   "execution_count": null,
   "metadata": {},
   "outputs": [],
   "source": [
    "\n"
   ]
  },
  {
   "cell_type": "code",
   "execution_count": null,
   "metadata": {},
   "outputs": [],
   "source": []
  },
  {
   "cell_type": "code",
   "execution_count": null,
   "metadata": {},
   "outputs": [],
   "source": []
  },
  {
   "cell_type": "code",
   "execution_count": null,
   "metadata": {},
   "outputs": [],
   "source": []
  },
  {
   "cell_type": "code",
   "execution_count": null,
   "metadata": {},
   "outputs": [],
   "source": []
  }
 ],
 "metadata": {
  "kernelspec": {
   "display_name": "Python 3.7.4 64-bit ('base': conda)",
   "language": "python",
   "name": "python37464bitbaseconda630f020a7733476b9832349f19e07685"
  },
  "language_info": {
   "codemirror_mode": {
    "name": "ipython",
    "version": 3
   },
   "file_extension": ".py",
   "mimetype": "text/x-python",
   "name": "python",
   "nbconvert_exporter": "python",
   "pygments_lexer": "ipython3",
   "version": "3.7.6"
  }
 },
 "nbformat": 4,
 "nbformat_minor": 4
}
